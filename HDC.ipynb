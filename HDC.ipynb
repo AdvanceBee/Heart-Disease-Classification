{
 "cells": [
  {
   "cell_type": "code",
   "execution_count": null,
   "id": "5039118c-aa7d-488c-a4ae-79852ebe9e5d",
   "metadata": {},
   "outputs": [],
   "source": [
    "### import libraries "
   ]
  },
  {
   "cell_type": "code",
   "execution_count": null,
   "id": "2fdb732a-2174-4d78-9119-61d0bca2fcd5",
   "metadata": {},
   "outputs": [],
   "source": []
  }
 ],
 "metadata": {
  "kernelspec": {
   "display_name": "Python 3 (ipykernel)",
   "language": "python",
   "name": "python3"
  },
  "language_info": {
   "codemirror_mode": {
    "name": "ipython",
    "version": 3
   },
   "file_extension": ".py",
   "mimetype": "text/x-python",
   "name": "python",
   "nbconvert_exporter": "python",
   "pygments_lexer": "ipython3",
   "version": "3.12.7"
  }
 },
 "nbformat": 4,
 "nbformat_minor": 5
}
